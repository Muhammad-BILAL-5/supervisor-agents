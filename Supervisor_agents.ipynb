{
  "nbformat": 4,
  "nbformat_minor": 0,
  "metadata": {
    "colab": {
      "provenance": [],
      "authorship_tag": "ABX9TyOTosWM7oxq4vP/BqP2vUU5",
      "include_colab_link": true
    },
    "kernelspec": {
      "name": "python3",
      "display_name": "Python 3"
    },
    "language_info": {
      "name": "python"
    }
  },
  "cells": [
    {
      "cell_type": "markdown",
      "metadata": {
        "id": "view-in-github",
        "colab_type": "text"
      },
      "source": [
        "<a href=\"https://colab.research.google.com/github/Muhammad-BILAL-5/supervisor-agents/blob/main/Supervisor_agents.ipynb\" target=\"_parent\"><img src=\"https://colab.research.google.com/assets/colab-badge.svg\" alt=\"Open In Colab\"/></a>"
      ]
    },
    {
      "cell_type": "code",
      "execution_count": null,
      "metadata": {
        "id": "T5YMQc98mGtz",
        "colab": {
          "base_uri": "https://localhost:8080/"
        },
        "outputId": "3273be0b-cb37-4d3a-ed86-bdeba4ab199a"
      },
      "outputs": [
        {
          "output_type": "stream",
          "name": "stdout",
          "text": [
            "\u001b[?25l   \u001b[90m━━━━━━━━━━━━━━━━━━━━━━━━━━━━━━━━━━━━━━━━\u001b[0m \u001b[32m0.0/1.0 MB\u001b[0m \u001b[31m?\u001b[0m eta \u001b[36m-:--:--\u001b[0m\r\u001b[2K   \u001b[91m━━━━━━━━━━━━━━━━━━━━━━━━━━━━━━━━━\u001b[0m\u001b[91m╸\u001b[0m\u001b[90m━━━━━━\u001b[0m \u001b[32m0.8/1.0 MB\u001b[0m \u001b[31m26.2 MB/s\u001b[0m eta \u001b[36m0:00:01\u001b[0m\r\u001b[2K   \u001b[90m━━━━━━━━━━━━━━━━━━━━━━━━━━━━━━━━━━━━━━━━\u001b[0m \u001b[32m1.0/1.0 MB\u001b[0m \u001b[31m16.6 MB/s\u001b[0m eta \u001b[36m0:00:00\u001b[0m\n",
            "\u001b[2K   \u001b[90m━━━━━━━━━━━━━━━━━━━━━━━━━━━━━━━━━━━━━━━━\u001b[0m \u001b[32m2.5/2.5 MB\u001b[0m \u001b[31m25.4 MB/s\u001b[0m eta \u001b[36m0:00:00\u001b[0m\n",
            "\u001b[2K   \u001b[90m━━━━━━━━━━━━━━━━━━━━━━━━━━━━━━━━━━━━━━━━\u001b[0m \u001b[32m135.7/135.7 kB\u001b[0m \u001b[31m8.0 MB/s\u001b[0m eta \u001b[36m0:00:00\u001b[0m\n",
            "\u001b[2K   \u001b[90m━━━━━━━━━━━━━━━━━━━━━━━━━━━━━━━━━━━━━━━━\u001b[0m \u001b[32m209.2/209.2 kB\u001b[0m \u001b[31m10.3 MB/s\u001b[0m eta \u001b[36m0:00:00\u001b[0m\n",
            "\u001b[2K   \u001b[90m━━━━━━━━━━━━━━━━━━━━━━━━━━━━━━━━━━━━━━━━\u001b[0m \u001b[32m41.3/41.3 kB\u001b[0m \u001b[31m2.7 MB/s\u001b[0m eta \u001b[36m0:00:00\u001b[0m\n",
            "\u001b[2K   \u001b[90m━━━━━━━━━━━━━━━━━━━━━━━━━━━━━━━━━━━━━━━━\u001b[0m \u001b[32m109.1/109.1 kB\u001b[0m \u001b[31m6.4 MB/s\u001b[0m eta \u001b[36m0:00:00\u001b[0m\n",
            "\u001b[2K   \u001b[90m━━━━━━━━━━━━━━━━━━━━━━━━━━━━━━━━━━━━━━━━\u001b[0m \u001b[32m411.6/411.6 kB\u001b[0m \u001b[31m11.7 MB/s\u001b[0m eta \u001b[36m0:00:00\u001b[0m\n",
            "\u001b[2K   \u001b[90m━━━━━━━━━━━━━━━━━━━━━━━━━━━━━━━━━━━━━━━━\u001b[0m \u001b[32m43.7/43.7 kB\u001b[0m \u001b[31m2.5 MB/s\u001b[0m eta \u001b[36m0:00:00\u001b[0m\n",
            "\u001b[2K   \u001b[90m━━━━━━━━━━━━━━━━━━━━━━━━━━━━━━━━━━━━━━━━\u001b[0m \u001b[32m49.3/49.3 kB\u001b[0m \u001b[31m3.0 MB/s\u001b[0m eta \u001b[36m0:00:00\u001b[0m\n",
            "\u001b[?25h"
          ]
        }
      ],
      "source": [
        "!pip install --quiet --upgrade -U langchain langchain_community langgraph langchain-groq langchain_experimental langchain-google-genai"
      ]
    },
    {
      "cell_type": "code",
      "source": [
        "from google.colab import userdata\n",
        "import os\n",
        "\n",
        "os.environ[\"TAVILY_API_KEY\"] = userdata.get(\"tavily_api_key\")\n",
        "os.environ[\"GOOGLE_API_KEY\"] = userdata.get(\"Gemini_Api_Key\")\n",
        "os.environ[\"LANGCHAIN_API_KEY\"] = userdata.get(\"langchai_api_key\")"
      ],
      "metadata": {
        "id": "aFIHYVLqmuyt"
      },
      "execution_count": null,
      "outputs": []
    },
    {
      "cell_type": "code",
      "source": [
        "from langchain.agents import AgentExecutor , create_tool_calling_agent\n",
        "from langchain.prompts import MessagesPlaceholder\n",
        "from langchain.prompts import ChatPromptTemplate\n",
        "from langchain.schema import HumanMessage\n",
        "\n",
        "#creating agent\n",
        "def create_agent(llm , tools: list , system_message: str):\n",
        "  prompt = ChatPromptTemplate.from_messages([\n",
        "      (\"system\", system_message),\n",
        "      MessagesPlaceholder(variable_name=\"messages\"),\n",
        "      MessagesPlaceholder(variable_name=\"agent_scratchpad\"),\n",
        "  ])\n",
        "\n",
        "  agent = create_tool_calling_agent(\n",
        "      llm=llm,\n",
        "      tools=tools,\n",
        "      prompt=prompt,\n",
        "  )\n",
        "  agent_executor = AgentExecutor(agent=agent,tools = tools)\n",
        "  return agent_executor"
      ],
      "metadata": {
        "id": "a_Yx3AdGnl2c"
      },
      "execution_count": null,
      "outputs": []
    },
    {
      "cell_type": "code",
      "source": [
        "from langchain_community.tools import TavilySearchResults\n",
        "from langchain_experimental.tools import PythonREPLTool\n",
        "\n",
        "tavily = TavilySearchResults()\n",
        "\n",
        "python_repl = PythonREPLTool()"
      ],
      "metadata": {
        "id": "Xqgom5SwqGu0"
      },
      "execution_count": null,
      "outputs": []
    },
    {
      "cell_type": "code",
      "source": [
        "from langchain_google_genai import ChatGoogleGenerativeAI\n",
        "\n",
        "llm = ChatGoogleGenerativeAI(\n",
        "    model=\"gemini-1.5-pro\",\n",
        "    temperature=0,\n",
        "    max_tokens=None,\n",
        "    timeout=None,\n",
        "    max_retries=2,\n",
        "    # other params...\n",
        ")"
      ],
      "metadata": {
        "id": "eMaZW6hUtOFu"
      },
      "execution_count": null,
      "outputs": []
    },
    {
      "cell_type": "code",
      "source": [
        "import functools\n",
        "\n",
        "#define agent node\n",
        "def agent_node(state , agent , name):\n",
        "  user_query = state[\"messages\"][0].content # Assuming the first message is the user's query.\n",
        "  # Create a new input dictionary with the query\n",
        "  input_with_query = {\"query\": user_query}\n",
        "  result = agent.invoke(input_with_query)\n",
        "  result[\"name\"] =name\n",
        "  return { \"messages\": [HumanMessage(content=result[\"output\"] , name = name)]}\n",
        "\n",
        "#tavily agent node\n",
        "tavily_agent = create_agent(llm,[tavily], \"you are helpfull agent , answer the user's queries carefully\")\n",
        "tavily_node = functools.partial(agent_node , agent = tavily_agent , name = \"tavily_search\")\n",
        "\n",
        "\n",
        "#python agent node\n",
        "python_agent = create_agent(llm,[python_repl], \"you are helpfull agent , answer the user's queries carefully\")\n",
        "python_node = functools.partial(agent_node , agent = python_agent , name = \"python_repl\")"
      ],
      "metadata": {
        "id": "l7hhLHx5rZQG"
      },
      "execution_count": null,
      "outputs": []
    },
    {
      "cell_type": "code",
      "source": [
        "members = [\"tavily_search\" , \"python_repl\"]\n",
        "\n",
        "template = (\n",
        "    \"You are a supervisor , tasked with managing conversation between\"\n",
        "    \"following workers:{members}. Given the following user request,\"\n",
        "    \"respond with workers to act next.Each worker perform a task and\"\n",
        "    \"respond with their results and status . When finished,\"\n",
        "    \"respond with FINISH.\"\n",
        ")\n",
        "\n",
        "options = [\"FINISH\"] + members\n",
        "\n",
        "prompt = ChatPromptTemplate.from_messages(\n",
        "    [\n",
        "        (\"system\" , template+\"Given the conversation above, who should act next? Or Should we FINISH?.Select one of:{options}\"),\n",
        "        MessagesPlaceholder(variable_name=\"messages\"),\n",
        "    ]\n",
        ").partial(options = str(options) , members = \", \".join(members))\n",
        "\n",
        "\n",
        "# Instead of using JsonOutputFunctionsParser, use a custom output parser.\n",
        "def custom_output_parser(text: str) -> dict:\n",
        "    \"\"\"Parses the output text to extract the 'next' worker.\"\"\"\n",
        "    # Assuming the model outputs the worker name directly.\n",
        "    # You might need to adjust this based on your model's actual output.\n",
        "    next_worker = text.content.strip()\n",
        "    if next_worker in options:\n",
        "        return {\"next\": next_worker}\n",
        "    else:\n",
        "        # Handle cases where the model outputs an invalid worker.\n",
        "        # For example, you could default to \"FINISH\" or raise an exception.\n",
        "        return {\"next\": \"FINISH\"}\n",
        "\n",
        "sepurvisor_chain = prompt | llm | custom_output_parser"
      ],
      "metadata": {
        "id": "GHssWwbppkXj"
      },
      "execution_count": null,
      "outputs": []
    },
    {
      "cell_type": "code",
      "source": [
        "from typing import TypedDict, Annotated , List , Sequence\n",
        "from langchain.schema import BaseMessage\n",
        "import operator\n",
        "\n",
        "#define agent state\n",
        "class AgentState(TypedDict):\n",
        "  messages: Annotated[Sequence[BaseMessage] , operator.add]\n",
        "  next:str"
      ],
      "metadata": {
        "id": "YB4qmydyxICJ"
      },
      "execution_count": null,
      "outputs": []
    },
    {
      "cell_type": "code",
      "source": [
        "#define graphstate\n",
        "from langgraph.graph import StateGraph , END\n",
        "\n",
        "graph = StateGraph(AgentState)\n",
        "\n",
        "graph.add_node(\"tavily_search\" , tavily_node)\n",
        "graph.add_node(\"python_repl\" , python_node)\n",
        "graph.add_node(\"Supervisor\" , sepurvisor_chain)\n",
        "\n",
        "for member in members:\n",
        "  graph.add_edge(member , \"Supervisor\" )\n",
        "\n",
        "conditional_map = {k:k for k in members}\n",
        "conditional_map[\"FINISH\"] = END\n",
        "graph.add_conditional_edges(\"Supervisor\", lambda x:x[\"next\"] , conditional_map)\n",
        "\n",
        "graph.set_entry_point(\"Supervisor\")\n",
        "\n",
        "app = graph.compile()"
      ],
      "metadata": {
        "id": "BKU996q-yuxe"
      },
      "execution_count": null,
      "outputs": []
    },
    {
      "cell_type": "code",
      "source": [
        "from IPython.display import Image, display\n",
        "\n",
        "display(Image(app.get_graph().draw_mermaid_png()))"
      ],
      "metadata": {
        "colab": {
          "base_uri": "https://localhost:8080/",
          "height": 290
        },
        "id": "bxA7I3OAAIWZ",
        "outputId": "3cac5759-2006-4f60-a892-cb5c60e5a922"
      },
      "execution_count": null,
      "outputs": [
        {
          "output_type": "display_data",
          "data": {
            "image/png": "[encoded data removed]",
            "text/plain": [
              "<IPython.core.display.Image object>"
            ]
          },
          "metadata": {}
        }
      ]
    },
    {
      "cell_type": "code",
      "source": [
        "input = {\"messages\": [HumanMessage(content=\"give me a roadmap to learn langchain?\")]}\n",
        "\n",
        "for output in app.stream(input):\n",
        "  for key,value in output.items():\n",
        "    print(f\"Getting response from {key}\")\n",
        "    print(value)\n",
        "    print(\"----\")"
      ],
      "metadata": {
        "colab": {
          "base_uri": "https://localhost:8080/"
        },
        "id": "l5Ufrkym1K4u",
        "outputId": "049c534d-3778-4085-8268-6c337da9b940"
      },
      "execution_count": null,
      "outputs": [
        {
          "output_type": "stream",
          "name": "stdout",
          "text": [
            "Getting response from Supervisor\n",
            "{'next': 'tavily_search'}\n",
            "----\n",
            "Getting response from tavily_search\n",
            "{'messages': [HumanMessage(content=\"Here's a roadmap to learn LangChain:\\n\\n**1. Foundational Knowledge:**\\n\\n* **Python:**  A strong Python foundation is essential. Focus on data structures (lists, dictionaries), classes, and object-oriented programming concepts.\\n* **APIs and Libraries:** Familiarize yourself with working with APIs and libraries like `requests`.  This will be crucial for interacting with external services and models.\\n\\n**2. Core LangChain Concepts:**\\n\\n* **LLMs and Prompts:** Understand how to interact with large language models (LLMs) and the importance of prompt engineering. Experiment with different prompting techniques to achieve desired outputs.\\n* **Chains:** Learn how to create chains to orchestrate sequences of calls to LLMs or other utilities. This is a fundamental concept in LangChain.\\n* **Indexes:**  Understand how to structure your data for use with LLMs. Learn about different types of indexes and when to use them.\\n* **Agents:** Explore how to use agents to decide which actions to take, such as making API calls or querying a database.\\n* **Memory:** Learn how to incorporate memory into your chains, allowing them to retain information across multiple interactions.\\n* **Callbacks:** Understand how to use callbacks to monitor and interact with the execution of your chains.\\n\\n**3. Hands-on Practice:**\\n\\n* **Start with Simple Chains:** Build basic chains for tasks like summarizing text or generating different creative text formats.  Gradually increase the complexity of your chains.\\n* **Integrate with External Data:** Practice using LangChain to interact with your own data or external APIs.\\n* **Explore Advanced Features:** Dive into more advanced topics like agents, memory, and callbacks.\\n* **Example Projects:** Work through example projects and tutorials provided in the LangChain documentation.\\n\\n**4. Community and Resources:**\\n\\n* **LangChain Documentation:** The official documentation is your primary resource.\\n* **Community Forums:** Engage with the LangChain community on forums and online platforms.\\n* **Open-Source Code:** Explore the LangChain codebase on GitHub to understand its inner workings.\\n\\n**Learning Path Suggestion:**\\n\\n1. **Fundamentals:** Focus on Python and API interaction.  Practice basic prompt engineering.\\n2. **Core LangChain:** Start with LLM interaction, chains, and indexes. Build simple applications.\\n3. **Advanced Concepts:** Explore agents, memory, callbacks, and more complex integrations.\\n4. **Real-World Projects:** Apply your knowledge to build real-world applications and contribute to the community.\\n\", additional_kwargs={}, response_metadata={}, name='tavily_search')]}\n",
            "----\n",
            "Getting response from Supervisor\n",
            "{'next': 'FINISH'}\n",
            "----\n"
          ]
        }
      ]
    }
  ]
}